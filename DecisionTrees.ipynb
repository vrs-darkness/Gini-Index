{
 "cells": [
  {
   "cell_type": "code",
   "execution_count": 1,
   "id": "b3cae02b",
   "metadata": {},
   "outputs": [],
   "source": [
    "import numpy as np\n",
    "import pandas as pd"
   ]
  },
  {
   "cell_type": "code",
   "execution_count": 2,
   "id": "4d4e05a6",
   "metadata": {},
   "outputs": [
    {
     "data": {
      "text/html": [
       "<div>\n",
       "<style scoped>\n",
       "    .dataframe tbody tr th:only-of-type {\n",
       "        vertical-align: middle;\n",
       "    }\n",
       "\n",
       "    .dataframe tbody tr th {\n",
       "        vertical-align: top;\n",
       "    }\n",
       "\n",
       "    .dataframe thead th {\n",
       "        text-align: right;\n",
       "    }\n",
       "</style>\n",
       "<table border=\"1\" class=\"dataframe\">\n",
       "  <thead>\n",
       "    <tr style=\"text-align: right;\">\n",
       "      <th></th>\n",
       "      <th>Age</th>\n",
       "      <th>Purchased</th>\n",
       "    </tr>\n",
       "  </thead>\n",
       "  <tbody>\n",
       "    <tr>\n",
       "      <th>76</th>\n",
       "      <td>18</td>\n",
       "      <td>0</td>\n",
       "    </tr>\n",
       "    <tr>\n",
       "      <th>165</th>\n",
       "      <td>18</td>\n",
       "      <td>0</td>\n",
       "    </tr>\n",
       "    <tr>\n",
       "      <th>51</th>\n",
       "      <td>18</td>\n",
       "      <td>0</td>\n",
       "    </tr>\n",
       "    <tr>\n",
       "      <th>14</th>\n",
       "      <td>18</td>\n",
       "      <td>0</td>\n",
       "    </tr>\n",
       "    <tr>\n",
       "      <th>141</th>\n",
       "      <td>18</td>\n",
       "      <td>0</td>\n",
       "    </tr>\n",
       "  </tbody>\n",
       "</table>\n",
       "</div>"
      ],
      "text/plain": [
       "     Age  Purchased\n",
       "76    18          0\n",
       "165   18          0\n",
       "51    18          0\n",
       "14    18          0\n",
       "141   18          0"
      ]
     },
     "execution_count": 2,
     "metadata": {},
     "output_type": "execute_result"
    }
   ],
   "source": [
    "Data = pd.read_csv('classification.csv')\n",
    "Data_age = Data.drop(columns='EstimatedSalary').sort_values(by='Age')\n",
    "Data_Sal = Data.drop(columns='Age').sort_values(by='EstimatedSalary')\n",
    "Data_age.head()\n"
   ]
  },
  {
   "cell_type": "code",
   "execution_count": 3,
   "id": "0209c4d2",
   "metadata": {},
   "outputs": [],
   "source": [
    "def ma(d):\n",
    "    Ma=[]\n",
    "    for i in range(1,d.shape[0]):\n",
    "        t = (d.iloc[i][0] + d.iloc[i-1][0] )/ 2\n",
    "        if(t not in Ma):\n",
    "            Ma.append(t)\n",
    "    return Ma\n",
    "Age_class = ma(Data_age)\n",
    "Sal_class = ma(Data_Sal)"
   ]
  },
  {
   "cell_type": "code",
   "execution_count": 11,
   "id": "ab99acd3",
   "metadata": {},
   "outputs": [],
   "source": [
    "def Gini(data,clas,Name):\n",
    "    x = []\n",
    "    count=[]\n",
    "    for i in clas:\n",
    "        temp = data[data[Name]<=i]\n",
    "        size = temp.shape[0]\n",
    "        count1 = list(temp['Purchased']).count(0)\n",
    "        p = 1  - (((count1/size)**2)+(((size-count1)/size)**2))\n",
    "        x.append(p)\n",
    "        count.append(size)\n",
    "    return x,count\n",
    "\n",
    "gini_age ,N_age= Gini(Data_age,Age_class,'Age')\n",
    "gini_Sal,N_Sal = Gini(Data_Sal,Sal_class,'EstimatedSalary')\n"
   ]
  },
  {
   "cell_type": "code",
   "execution_count": 24,
   "id": "548173ec",
   "metadata": {},
   "outputs": [],
   "source": [
    "def Weight_gini(data,gini,count):\n",
    "    overall = 0 \n",
    "    for i in range(0,len(gini)):\n",
    "        t = (count[i]/data.shape[0]) * gini[i]\n",
    "        overall+=t\n",
    "    return overall\n",
    "\n",
    "weight_gini_age = Weight_gini(Data_age,gini_age,N_age)\n",
    "weight_gini_Sal = Weight_gini(Data_Sal,gini_Sal,N_Sal)"
   ]
  },
  {
   "cell_type": "code",
   "execution_count": 13,
   "id": "e0b77074",
   "metadata": {},
   "outputs": [
    {
     "data": {
      "text/plain": [
       "14.834399559046767"
      ]
     },
     "execution_count": 13,
     "metadata": {},
     "output_type": "execute_result"
    }
   ],
   "source": [
    "weight_gini_age"
   ]
  },
  {
   "cell_type": "code",
   "execution_count": 14,
   "id": "9459aca6",
   "metadata": {},
   "outputs": [
    {
     "data": {
      "text/plain": [
       "44.75282255462449"
      ]
     },
     "execution_count": 14,
     "metadata": {},
     "output_type": "execute_result"
    }
   ],
   "source": [
    "weight_gini_Sal"
   ]
  },
  {
   "cell_type": "code",
   "execution_count": null,
   "id": "637dc95c",
   "metadata": {},
   "outputs": [],
   "source": []
  },
  {
   "cell_type": "code",
   "execution_count": null,
   "id": "a8aeec6e",
   "metadata": {},
   "outputs": [],
   "source": []
  }
 ],
 "metadata": {
  "kernelspec": {
   "display_name": "Python 3",
   "language": "python",
   "name": "python3"
  },
  "language_info": {
   "codemirror_mode": {
    "name": "ipython",
    "version": 3
   },
   "file_extension": ".py",
   "mimetype": "text/x-python",
   "name": "python",
   "nbconvert_exporter": "python",
   "pygments_lexer": "ipython3",
   "version": "3.11.1"
  },
  "vscode": {
   "interpreter": {
    "hash": "c32232236c822c9ebd6d78da8476bc9d301b07682ae17d8dded0048ab327588e"
   }
  }
 },
 "nbformat": 4,
 "nbformat_minor": 5
}
